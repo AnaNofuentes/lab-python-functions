{
 "cells": [
  {
   "cell_type": "markdown",
   "id": "25d7736c-ba17-4aff-b6bb-66eba20fbf4e",
   "metadata": {},
   "source": [
    "# Lab | Functions"
   ]
  },
  {
   "cell_type": "markdown",
   "id": "0c581062-8967-4d93-b06e-62833222f930",
   "metadata": {
    "tags": []
   },
   "source": [
    "## Exercise: Managing Customer Orders with Functions\n",
    "\n",
    "In the previous exercise, you improved the code for managing customer orders by using loops and flow control. Now, let's take it a step further and refactor the code by introducing functions.\n",
    "\n",
    "Follow the steps below to complete the exercise:\n",
    "\n",
    "1. Define a function named `initialize_inventory` that takes `products` as a parameter. Inside the function, implement the code for initializing the inventory dictionary using a loop and user input.\n",
    "\n",
    "2. Define a function named `get_customer_orders` that takes no parameters. Inside the function, implement the code for prompting the user to enter the product names using a loop. The function should return the `customer_orders` set.\n",
    "\n",
    "3. Define a function named `update_inventory` that takes `customer_orders` and `inventory` as parameters. Inside the function, implement the code for updating the inventory dictionary based on the customer orders.\n",
    "\n",
    "4. Define a function named `calculate_order_statistics` that takes `customer_orders` and `products` as parameters. Inside the function, implement the code for calculating the order statistics (total products ordered, and percentage of unique products ordered). The function should return these values.\n",
    "\n",
    "5. Define a function named `print_order_statistics` that takes `order_statistics` as a parameter. Inside the function, implement the code for printing the order statistics.\n",
    "\n",
    "6. Define a function named `print_updated_inventory` that takes `inventory` as a parameter. Inside the function, implement the code for printing the updated inventory.\n",
    "\n",
    "7. Call the functions in the appropriate sequence to execute the program and manage customer orders.\n",
    "\n",
    "Hints for functions:\n",
    "\n",
    "- Consider the input parameters required for each function and their return values.\n",
    "- Utilize function parameters and return values to transfer data between functions.\n",
    "- Test your functions individually to ensure they work correctly.\n",
    "\n",
    "\n"
   ]
  },
  {
   "cell_type": "markdown",
   "id": "0456c940",
   "metadata": {},
   "source": [
    "1. Define a function named `initialize_inventory` that takes `products` as a parameter. Inside the function, implement the code for initializing the inventory dictionary using a loop and user input."
   ]
  },
  {
   "cell_type": "code",
   "execution_count": 37,
   "id": "a0409e3a",
   "metadata": {},
   "outputs": [],
   "source": [
    "def initialize_inventory(products):\n",
    "    inventory = {} \n",
    "    for product in products:\n",
    "        quantity= int(input(f\"please enter a quantity {product}s avaiable\"))\n",
    "        inventory[product] = quantity\n",
    "    return inventory"
   ]
  },
  {
   "cell_type": "markdown",
   "id": "bd595ff9",
   "metadata": {},
   "source": [
    "2. Define a function named `get_customer_orders` that takes no parameters. Inside the function, implement the code for prompting the user to enter the product names using a loop. The function should return the `customer_orders` set."
   ]
  },
  {
   "cell_type": "code",
   "execution_count": 39,
   "id": "d4aa808f",
   "metadata": {},
   "outputs": [],
   "source": [
    "def get_customer_orders():\n",
    "    # Create an empty set called customer_orders\n",
    "    customer_orders = set()\n",
    "    # Initialize a variable for user input \n",
    "    add_another = 'yes'\n",
    "\n",
    "    while add_another.lower() == 'yes':\n",
    "    # Prompt the user to enter a name of product \n",
    "        product_name = input(\"Enter the name of a product that a costumer wants to order: \")\n",
    "    # Add the product name to the customer_orders set\n",
    "        customer_orders.add(product_name)\n",
    "    # Ask the user if they want to add another product (yes/no).\n",
    "        add_another = input(\"Do you want to add another product (yes/no): \")\n",
    "    return(customer_orders)"
   ]
  },
  {
   "cell_type": "markdown",
   "id": "f88f475f",
   "metadata": {},
   "source": [
    "3. Define a function named `update_inventory` that takes `customer_orders` and `inventory` as parameters. Inside the function, implement the code for updating the inventory dictionary based on the customer orders.\n"
   ]
  },
  {
   "cell_type": "code",
   "execution_count": 40,
   "id": "8bf5d19f",
   "metadata": {},
   "outputs": [],
   "source": [
    "def update_inventory(customer_orders, inventory):\n",
    "    \n",
    "   # Update inventory by substracting 1 from the quantity of each ordered product\n",
    "    for product in customer_orders:\n",
    "        if product in customer_orders and inventory[product] > 0:\n",
    "           inventory[product] -= 1\n",
    "        else:\n",
    "         print(f\"Sorry {product} is out stock or not available. \")\n",
    "         \n",
    "    return inventory"
   ]
  },
  {
   "cell_type": "markdown",
   "id": "ded0ca7a",
   "metadata": {},
   "source": [
    "4. Define a function named `calculate_order_statistics` that takes `customer_orders` and `products` as parameters. Inside the function, implement the code for calculating the order statistics (total products ordered, and percentage of unique products ordered). The function should return these values."
   ]
  },
  {
   "cell_type": "code",
   "execution_count": 41,
   "id": "c1e234b9",
   "metadata": {},
   "outputs": [],
   "source": [
    "def calculate_order_statistics(customer_orders, products):\n",
    "\n",
    "    total_products_ordered = len(customer_orders)\n",
    "\n",
    "    total_available_products = len(products) \n",
    "\n",
    "    percentage_ordered= total_products_ordered/total_available_products * 100 \n",
    "\n",
    "    return total_products_ordered, percentage_ordered"
   ]
  },
  {
   "cell_type": "markdown",
   "id": "b96d40b4",
   "metadata": {},
   "source": [
    "5. Define a function named `print_order_statistics` that takes `order_statistics` as a parameter. Inside the function, implement the code for printing the order statistics."
   ]
  },
  {
   "cell_type": "code",
   "execution_count": 42,
   "id": "a0b7fa5b",
   "metadata": {},
   "outputs": [],
   "source": [
    "\n",
    "def print_order_statistics(order_statistics):\n",
    "    print(\"\\nOrder_statistics\") \n",
    "    print(\"Total Products Ordered\", order_statistics[0])\n",
    "    print(\"Percentaje of Unique Products Ordered\", order_statistics[1])"
   ]
  },
  {
   "cell_type": "markdown",
   "id": "84899651",
   "metadata": {},
   "source": [
    "6. Define a function named `print_updated_inventory` that takes `inventory` as a parameter. Inside the function, implement the code for printing the updated inventory."
   ]
  },
  {
   "cell_type": "code",
   "execution_count": 43,
   "id": "2288b6ec",
   "metadata": {},
   "outputs": [],
   "source": [
    "def print_updated_inventory(inventory):\n",
    "    print(\"\\nUpdated Inventory:\")\n",
    "    for product, quantity in inventory.items():\n",
    "        print(f\"{product}: {quantity}\")"
   ]
  },
  {
   "cell_type": "markdown",
   "id": "a802cc79",
   "metadata": {},
   "source": [
    "7. Call the functions in the appropriate sequence to execute the program and manage customer orders."
   ]
  },
  {
   "cell_type": "code",
   "execution_count": 44,
   "id": "76cbf267",
   "metadata": {},
   "outputs": [
    {
     "name": "stdout",
     "output_type": "stream",
     "text": [
      "\n",
      "Order_statistics\n",
      "Total Products Ordered 4\n",
      "Percentaje of Unique Products Ordered 80.0\n",
      "\n",
      "Updated Inventory:\n",
      "t-shirt: 5\n",
      "mug: 5\n",
      "hat: 6\n",
      "book: 7\n",
      "keychain: 8\n"
     ]
    }
   ],
   "source": [
    "products = [\"t-shirt\", \"mug\", \"hat\", \"book\", \"keychain\"] \n",
    "inventory=initialize_inventory(products)\n",
    "customer_orders= get_customer_orders()\n",
    "inventory = update_inventory(customer_orders, inventory)\n",
    "order_statistics =calculate_order_statistics(customer_orders, products)\n",
    "print_order_statistics(order_statistics)\n",
    "print_updated_inventory(inventory)"
   ]
  }
 ],
 "metadata": {
  "kernelspec": {
   "display_name": "Python 3 (ipykernel)",
   "language": "python",
   "name": "python3"
  },
  "language_info": {
   "codemirror_mode": {
    "name": "ipython",
    "version": 3
   },
   "file_extension": ".py",
   "mimetype": "text/x-python",
   "name": "python",
   "nbconvert_exporter": "python",
   "pygments_lexer": "ipython3",
   "version": "3.12.4"
  }
 },
 "nbformat": 4,
 "nbformat_minor": 5
}
