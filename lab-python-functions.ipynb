{
 "cells": [
  {
   "cell_type": "markdown",
   "id": "25d7736c-ba17-4aff-b6bb-66eba20fbf4e",
   "metadata": {},
   "source": [
    "# Lab | Functions"
   ]
  },
  {
   "cell_type": "markdown",
   "id": "0c581062-8967-4d93-b06e-62833222f930",
   "metadata": {
    "tags": []
   },
   "source": [
    "## Exercise: Managing Customer Orders with Functions\n",
    "\n",
    "In the previous exercise, you improved the code for managing customer orders by using loops and flow control. Now, let's take it a step further and refactor the code by introducing functions.\n",
    "\n",
    "Follow the steps below to complete the exercise:\n",
    "\n",
    "1. Define a function named `initialize_inventory` that takes `products` as a parameter. Inside the function, implement the code for initializing the inventory dictionary using a loop and user input.\n",
    "\n",
    "2. Define a function named `get_customer_orders` that takes no parameters. Inside the function, implement the code for prompting the user to enter the product names using a loop. The function should return the `customer_orders` set.\n",
    "\n",
    "3. Define a function named `update_inventory` that takes `customer_orders` and `inventory` as parameters. Inside the function, implement the code for updating the inventory dictionary based on the customer orders.\n",
    "\n",
    "4. Define a function named `calculate_order_statistics` that takes `customer_orders` and `products` as parameters. Inside the function, implement the code for calculating the order statistics (total products ordered, and percentage of unique products ordered). The function should return these values.\n",
    "\n",
    "5. Define a function named `print_order_statistics` that takes `order_statistics` as a parameter. Inside the function, implement the code for printing the order statistics.\n",
    "\n",
    "6. Define a function named `print_updated_inventory` that takes `inventory` as a parameter. Inside the function, implement the code for printing the updated inventory.\n",
    "\n",
    "7. Call the functions in the appropriate sequence to execute the program and manage customer orders.\n",
    "\n",
    "Hints for functions:\n",
    "\n",
    "- Consider the input parameters required for each function and their return values.\n",
    "- Utilize function parameters and return values to transfer data between functions.\n",
    "- Test your functions individually to ensure they work correctly.\n",
    "\n",
    "\n"
   ]
  },
  {
   "cell_type": "markdown",
   "id": "0456c940",
   "metadata": {},
   "source": [
    "1. Define a function named `initialize_inventory` that takes `products` as a parameter. Inside the function, implement the code for initializing the inventory dictionary using a loop and user input."
   ]
  },
  {
   "cell_type": "code",
   "execution_count": 1,
   "id": "a0409e3a",
   "metadata": {},
   "outputs": [],
   "source": [
    "products = [\"t-shirt\", \"mug\", \"hat\", \"book\", \"keychain\"] \n",
    "def initialize_inventory(products):\n",
    "    inventory = {} \n",
    "    for product in products:\n",
    "        quantity= int(input(f\"please enter a quantity {product}s avaiable\"))\n",
    "        inventory[product] = quantity\n",
    "    return inventory"
   ]
  },
  {
   "cell_type": "code",
   "execution_count": 3,
   "id": "7f80aa78",
   "metadata": {},
   "outputs": [
    {
     "data": {
      "text/plain": [
       "{'t-shirt': 1, 'mug': 2, 'hat': 3, 'book': 4, 'keychain': 5}"
      ]
     },
     "execution_count": 3,
     "metadata": {},
     "output_type": "execute_result"
    }
   ],
   "source": [
    "inventario=initialize_inventory(products)\n",
    "inventario"
   ]
  },
  {
   "cell_type": "markdown",
   "id": "bd595ff9",
   "metadata": {},
   "source": [
    "2. Define a function named `get_customer_orders` that takes no parameters. Inside the function, implement the code for prompting the user to enter the product names using a loop. The function should return the `customer_orders` set."
   ]
  },
  {
   "cell_type": "code",
   "execution_count": 4,
   "id": "d4aa808f",
   "metadata": {},
   "outputs": [],
   "source": [
    "def get_customer_orders():\n",
    "    customer_orders = set()\n",
    "\n",
    "    add_another = 'yes'\n",
    "    while add_another.lower() == 'yes':\n",
    "        product_name = input(\"Enter a name of a product that customer wants to order:\")\n",
    "        customer_orders.add(product_name)\n",
    "        add_another = input(\"Do you want to another product (yes/no)\")\n",
    "    return(customer_orders)"
   ]
  },
  {
   "cell_type": "code",
   "execution_count": 5,
   "id": "4e17e99c",
   "metadata": {},
   "outputs": [
    {
     "name": "stdout",
     "output_type": "stream",
     "text": [
      "{'mug', '2'}\n"
     ]
    }
   ],
   "source": [
    "\n",
    "get_customer= get_customer_orders()\n",
    "print(get_customer)"
   ]
  },
  {
   "cell_type": "markdown",
   "id": "f88f475f",
   "metadata": {},
   "source": [
    "3. Define a function named `update_inventory` that takes `customer_orders` and `inventory` as parameters. Inside the function, implement the code for updating the inventory dictionary based on the customer orders.\n"
   ]
  },
  {
   "cell_type": "code",
   "execution_count": 6,
   "id": "8bf5d19f",
   "metadata": {},
   "outputs": [],
   "source": [
    "def update_inventory(customer_orders, inventory):\n",
    "    \n",
    "    # Process customer orders\n",
    "    for product, quantity_ordered in customer_orders.items():\n",
    "        if product in inventory:\n",
    "            # Check if there's enough stock\n",
    "            if quantity_ordered <= inventory[product]:\n",
    "                inventory[product] -= quantity_ordered\n",
    "            else:\n",
    "                print(f\"Not enough {product} in inventory. Only {inventory[product]} left.\")\n",
    "        else:\n",
    "            print(f\"{product} not found in inventory.\")\n",
    "\n",
    "    return inventory"
   ]
  },
  {
   "cell_type": "code",
   "execution_count": 56,
   "id": "003c0697",
   "metadata": {},
   "outputs": [
    {
     "name": "stdout",
     "output_type": "stream",
     "text": [
      "Not enough mug in inventory. Only 2 left.\n",
      "Not enough book in inventory. Only 4 left.\n",
      "Not enough hat in inventory. Only 1 left.\n",
      "{'t-shirt': 1, 'mug': 2, 'hat': 1, 'book': 4, 'keychain': 5}\n"
     ]
    }
   ],
   "source": [
    "\n",
    "customer_orders = {\"mug\": 10, \"book\": 6, \"hat\": 2}\n",
    "inventory = inventario\n",
    "\n",
    "updated_inventory = update_inventory(customer_orders, inventory)\n",
    "print(updated_inventory)\n",
    "\n",
    "\n"
   ]
  },
  {
   "cell_type": "markdown",
   "id": "ded0ca7a",
   "metadata": {},
   "source": [
    "4. Define a function named `calculate_order_statistics` that takes `customer_orders` and `products` as parameters. Inside the function, implement the code for calculating the order statistics (total products ordered, and percentage of unique products ordered). The function should return these values."
   ]
  },
  {
   "cell_type": "code",
   "execution_count": 39,
   "id": "c1e234b9",
   "metadata": {},
   "outputs": [],
   "source": [
    "def calculate_order_statistics(customer_orders, products):\n",
    "    total_products_ordered = sum(products for products in customer_orders.values())\n",
    "    total_available_products = sum(products for products in updated_inventory.values() )\n",
    "\n",
    "    percentage_available = ( total_available_products/ total_products_ordered ) * 100\n",
    "    print(f\"percentaje of products available: {percentage_available:.2f}%\")\n",
    "    return total_products_ordered, percentage_available\n",
    "    \n",
    "   "
   ]
  },
  {
   "cell_type": "code",
   "execution_count": 40,
   "id": "4fa2bc39",
   "metadata": {},
   "outputs": [
    {
     "name": "stdout",
     "output_type": "stream",
     "text": [
      "percentaje of products available: 72.22%\n"
     ]
    },
    {
     "data": {
      "text/plain": [
       "(18, 72.22222222222221)"
      ]
     },
     "execution_count": 40,
     "metadata": {},
     "output_type": "execute_result"
    }
   ],
   "source": [
    "\n",
    "calculate_order_statistics(customer_orders, products)\n"
   ]
  },
  {
   "cell_type": "markdown",
   "id": "b96d40b4",
   "metadata": {},
   "source": [
    "5. Define a function named `print_order_statistics` that takes `order_statistics` as a parameter. Inside the function, implement the code for printing the order statistics."
   ]
  },
  {
   "cell_type": "code",
   "execution_count": 42,
   "id": "a0b7fa5b",
   "metadata": {},
   "outputs": [],
   "source": [
    "def print_order_statistics(order_statistics):\n",
    "    total_products_ordered, percentage_available = order_statistics\n",
    "    print(total_products_ordered)\n",
    "    print(percentage_available)"
   ]
  },
  {
   "cell_type": "markdown",
   "id": "84899651",
   "metadata": {},
   "source": [
    "6. Define a function named `print_updated_inventory` that takes `inventory` as a parameter. Inside the function, implement the code for printing the updated inventory."
   ]
  },
  {
   "cell_type": "code",
   "execution_count": 53,
   "id": "2288b6ec",
   "metadata": {},
   "outputs": [],
   "source": [
    "def print_updated_inventory(inventory):\n",
    "    print(\"Updated Inventory:\")\n",
    "    for product, quantity in inventory.items():\n",
    "        print(f\"{product}: {quantity}\")"
   ]
  },
  {
   "cell_type": "code",
   "execution_count": 57,
   "id": "6431c065",
   "metadata": {},
   "outputs": [
    {
     "name": "stdout",
     "output_type": "stream",
     "text": [
      "Not enough mug in inventory. Only 2 left.\n",
      "Not enough book in inventory. Only 4 left.\n",
      "Not enough hat in inventory. Only 1 left.\n",
      "Updated Inventory:\n",
      "t-shirt: 1\n",
      "mug: 2\n",
      "hat: 1\n",
      "book: 4\n",
      "keychain: 5\n"
     ]
    }
   ],
   "source": [
    "inventory = update_inventory(customer_orders, inventory)\n",
    "print_updated_inventory(inventory)"
   ]
  },
  {
   "cell_type": "markdown",
   "id": "a802cc79",
   "metadata": {},
   "source": [
    "7. Call the functions in the appropriate sequence to execute the program and manage customer orders."
   ]
  },
  {
   "cell_type": "code",
   "execution_count": 157,
   "id": "76cbf267",
   "metadata": {},
   "outputs": [
    {
     "name": "stdout",
     "output_type": "stream",
     "text": [
      "{'onion': 1, 'cucumber': 2, 'potatoes': 3, 'beans': 4, 'eggplant': 5}\n"
     ]
    }
   ],
   "source": [
    "inventory=initialize_inventory(products)\n",
    "print(inventory)"
   ]
  },
  {
   "cell_type": "code",
   "execution_count": 158,
   "id": "d6fba566",
   "metadata": {},
   "outputs": [
    {
     "name": "stdout",
     "output_type": "stream",
     "text": [
      "Your set of list is: {'onion': 5, 'cucumber': 3, 'potatoes': 2}\n",
      "{'onion': 5, 'cucumber': 3, 'potatoes': 2}\n"
     ]
    }
   ],
   "source": [
    "get_customer= get_customer_orders()\n",
    "print(get_customer)"
   ]
  },
  {
   "cell_type": "code",
   "execution_count": 159,
   "id": "237ee65a",
   "metadata": {},
   "outputs": [
    {
     "name": "stdout",
     "output_type": "stream",
     "text": [
      "Not enough onion in inventory. Only 1 left.\n",
      "Not enough cucumber in inventory. Only 2 left.\n",
      "{'onion': 0, 'cucumber': 0, 'potatoes': 1, 'beans': 4, 'eggplant': 5}\n"
     ]
    }
   ],
   "source": [
    "updated_inventory = update_inventory(customer_orders, inventory)\n",
    "print(updated_inventory)\n"
   ]
  },
  {
   "cell_type": "code",
   "execution_count": 160,
   "id": "5651c084",
   "metadata": {},
   "outputs": [
    {
     "name": "stdout",
     "output_type": "stream",
     "text": [
      "Total products ordered: 10\n",
      "Percentage of products ordered: 200.0\n"
     ]
    }
   ],
   "source": [
    "total_ordered, percentage = calculate_order_statistics(customer_orders, products)\n",
    "print(\"Total products ordered:\", total_ordered)\n",
    "print(\"Percentage of products ordered:\", percentage)"
   ]
  },
  {
   "cell_type": "code",
   "execution_count": 161,
   "id": "004e7000",
   "metadata": {},
   "outputs": [
    {
     "name": "stdout",
     "output_type": "stream",
     "text": [
      "10\n",
      "200.0\n"
     ]
    }
   ],
   "source": [
    "\n",
    "order_stats = calculate_order_statistics(customer_orders, products)\n",
    "\n",
    "print_order_statistics(order_stats)"
   ]
  },
  {
   "cell_type": "code",
   "execution_count": 162,
   "id": "71ffa722",
   "metadata": {},
   "outputs": [
    {
     "name": "stdout",
     "output_type": "stream",
     "text": [
      "beans not found in inventory.\n",
      "eggplant not found in inventory.\n",
      "Updated Inventory:\n",
      "onion: 5\n",
      "cucumber: 3\n",
      "potatoes: 1\n"
     ]
    }
   ],
   "source": [
    "updated_inventory = update_inventory(inventory, customer_orders)\n",
    "print_updated_inventory(updated_inventory)"
   ]
  }
 ],
 "metadata": {
  "kernelspec": {
   "display_name": "Python 3 (ipykernel)",
   "language": "python",
   "name": "python3"
  },
  "language_info": {
   "codemirror_mode": {
    "name": "ipython",
    "version": 3
   },
   "file_extension": ".py",
   "mimetype": "text/x-python",
   "name": "python",
   "nbconvert_exporter": "python",
   "pygments_lexer": "ipython3",
   "version": "3.12.4"
  }
 },
 "nbformat": 4,
 "nbformat_minor": 5
}
