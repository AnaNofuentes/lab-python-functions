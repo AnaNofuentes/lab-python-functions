{
 "cells": [
  {
   "cell_type": "markdown",
   "id": "25d7736c-ba17-4aff-b6bb-66eba20fbf4e",
   "metadata": {},
   "source": [
    "# Lab | Functions"
   ]
  },
  {
   "cell_type": "markdown",
   "id": "0c581062-8967-4d93-b06e-62833222f930",
   "metadata": {
    "tags": []
   },
   "source": [
    "## Exercise: Managing Customer Orders with Functions\n",
    "\n",
    "In the previous exercise, you improved the code for managing customer orders by using loops and flow control. Now, let's take it a step further and refactor the code by introducing functions.\n",
    "\n",
    "Follow the steps below to complete the exercise:\n",
    "\n",
    "1. Define a function named `initialize_inventory` that takes `products` as a parameter. Inside the function, implement the code for initializing the inventory dictionary using a loop and user input.\n",
    "\n",
    "2. Define a function named `get_customer_orders` that takes no parameters. Inside the function, implement the code for prompting the user to enter the product names using a loop. The function should return the `customer_orders` set.\n",
    "\n",
    "3. Define a function named `update_inventory` that takes `customer_orders` and `inventory` as parameters. Inside the function, implement the code for updating the inventory dictionary based on the customer orders.\n",
    "\n",
    "4. Define a function named `calculate_order_statistics` that takes `customer_orders` and `products` as parameters. Inside the function, implement the code for calculating the order statistics (total products ordered, and percentage of unique products ordered). The function should return these values.\n",
    "\n",
    "5. Define a function named `print_order_statistics` that takes `order_statistics` as a parameter. Inside the function, implement the code for printing the order statistics.\n",
    "\n",
    "6. Define a function named `print_updated_inventory` that takes `inventory` as a parameter. Inside the function, implement the code for printing the updated inventory.\n",
    "\n",
    "7. Call the functions in the appropriate sequence to execute the program and manage customer orders.\n",
    "\n",
    "Hints for functions:\n",
    "\n",
    "- Consider the input parameters required for each function and their return values.\n",
    "- Utilize function parameters and return values to transfer data between functions.\n",
    "- Test your functions individually to ensure they work correctly.\n",
    "\n",
    "\n"
   ]
  },
  {
   "cell_type": "markdown",
   "id": "0456c940",
   "metadata": {},
   "source": [
    "1. Define a function named `initialize_inventory` that takes `products` as a parameter. Inside the function, implement the code for initializing the inventory dictionary using a loop and user input."
   ]
  },
  {
   "cell_type": "code",
   "execution_count": 94,
   "id": "a0409e3a",
   "metadata": {},
   "outputs": [],
   "source": [
    "def initialize_inventory(products):\n",
    "    inventory = {} \n",
    "    for product in products:\n",
    "        quantity= int(input(\"please enter a quantity avaiable\"))\n",
    "        inventory[product] = quantity\n",
    "    return inventory"
   ]
  },
  {
   "cell_type": "code",
   "execution_count": 95,
   "id": "7f80aa78",
   "metadata": {},
   "outputs": [
    {
     "name": "stdout",
     "output_type": "stream",
     "text": [
      "{'t-shirt': 1, 'mug': 2, 'hat': 3, 'book': 4, 'keychain': 5}\n"
     ]
    }
   ],
   "source": [
    "products = [\"t-shirt\", \"mug\", \"hat\", \"book\", \"keychain\"] \n",
    "inventory=initialize_inventory(products)\n",
    "print(inventory)"
   ]
  },
  {
   "cell_type": "markdown",
   "id": "bd595ff9",
   "metadata": {},
   "source": [
    "2. Define a function named `get_customer_orders` that takes no parameters. Inside the function, implement the code for prompting the user to enter the product names using a loop. The function should return the `customer_orders` set."
   ]
  },
  {
   "cell_type": "code",
   "execution_count": 105,
   "id": "d4aa808f",
   "metadata": {},
   "outputs": [],
   "source": [
    "def get_customer_orders():\n",
    "    while len(customer_orders) < 3:\n",
    "        product_name = input('Enter the name of a product you want to order')\n",
    "        if product_name in products:\n",
    "            customer_orders.add(product_name)\n",
    "            print(f'{product_name} has been added to your order.')\n",
    "        else:\n",
    "            print(f'{product_name} is not a valid product. Please choose from {products}.')\n",
    "    print(\"Your set of list is:\", customer_orders)\n",
    "    return customer_orders"
   ]
  },
  {
   "cell_type": "code",
   "execution_count": 106,
   "id": "4e17e99c",
   "metadata": {},
   "outputs": [
    {
     "name": "stdout",
     "output_type": "stream",
     "text": [
      "1 is not a valid product. Please choose from ['t-shirt', 'mug', 'hat', 'book', 'keychain'].\n",
      "2 is not a valid product. Please choose from ['t-shirt', 'mug', 'hat', 'book', 'keychain'].\n",
      "3 is not a valid product. Please choose from ['t-shirt', 'mug', 'hat', 'book', 'keychain'].\n",
      "4 is not a valid product. Please choose from ['t-shirt', 'mug', 'hat', 'book', 'keychain'].\n",
      "5 is not a valid product. Please choose from ['t-shirt', 'mug', 'hat', 'book', 'keychain'].\n",
      "mug has been added to your order.\n",
      "hat has been added to your order.\n",
      "kaychain is not a valid product. Please choose from ['t-shirt', 'mug', 'hat', 'book', 'keychain'].\n",
      "hat has been added to your order.\n",
      "book has been added to your order.\n",
      "Your set of list is: {'mug', 'book', 'hat'}\n",
      "{'mug', 'book', 'hat'}\n"
     ]
    }
   ],
   "source": [
    "customer_orders = set()\n",
    "get_customer= get_customer_orders()\n",
    "print(get_customer)"
   ]
  },
  {
   "cell_type": "markdown",
   "id": "f88f475f",
   "metadata": {},
   "source": [
    "3. Define a function named `update_inventory` that takes `customer_orders` and `inventory` as parameters. Inside the function, implement the code for updating the inventory dictionary based on the customer orders.\n"
   ]
  },
  {
   "cell_type": "code",
   "execution_count": 107,
   "id": "8bf5d19f",
   "metadata": {},
   "outputs": [],
   "source": [
    "def update_inventory(customer_orders, inventory):\n",
    "    \n",
    "    # Process customer orders\n",
    "    for product, quantity_ordered in customer_orders.items():\n",
    "        if product in inventory:\n",
    "            # Check if there's enough stock\n",
    "            if quantity_ordered <= inventory[product]:\n",
    "                inventory[product] -= quantity_ordered\n",
    "            else:\n",
    "                print(f\"Not enough {product} in inventory. Only {inventory[product]} left.\")\n",
    "                # Optionally, set the product's quantity to 0 if it's completely depleted\n",
    "                inventory[product] = 0\n",
    "        else:\n",
    "            print(f\"{product} not found in inventory.\")\n",
    "\n",
    "    return inventory"
   ]
  },
  {
   "cell_type": "code",
   "execution_count": 124,
   "id": "003c0697",
   "metadata": {},
   "outputs": [
    {
     "name": "stdout",
     "output_type": "stream",
     "text": [
      "Not enough mug in inventory. Only 0 left.\n",
      "Not enough book in inventory. Only 0 left.\n",
      "Not enough hat in inventory. Only 0 left.\n",
      "{'t-shirt': 1, 'mug': 0, 'hat': 0, 'book': 0, 'keychain': 5}\n"
     ]
    }
   ],
   "source": [
    "\n",
    "customer_orders = {\"mug\": 10, \"book\": 6, \"hat\": 2}\n",
    "\n",
    "updated_inventory = update_inventory(customer_orders, inventory)\n",
    "print(updated_inventory)\n",
    "\n",
    "\n"
   ]
  },
  {
   "cell_type": "markdown",
   "id": "ded0ca7a",
   "metadata": {},
   "source": [
    "4. Define a function named `calculate_order_statistics` that takes `customer_orders` and `products` as parameters. Inside the function, implement the code for calculating the order statistics (total products ordered, and percentage of unique products ordered). The function should return these values."
   ]
  },
  {
   "cell_type": "code",
   "execution_count": 137,
   "id": "c1e234b9",
   "metadata": {},
   "outputs": [],
   "source": [
    "def calculate_order_statistics(customer_orders, products):\n",
    "    total_products_ordered = sum(quantity for quantity in customer_orders.values())\n",
    "    total_available_products = len(products)\n",
    "\n",
    "    percentage_ordered = (total_products_ordered / total_available_products) * 100\n",
    "\n",
    "    return total_products_ordered, percentage_ordered\n",
    "    \n",
    "   "
   ]
  },
  {
   "cell_type": "code",
   "execution_count": 138,
   "id": "0c9f210f",
   "metadata": {},
   "outputs": [
    {
     "name": "stdout",
     "output_type": "stream",
     "text": [
      "Total products ordered: 8\n",
      "Percentage of products ordered: 266.66666666666663\n"
     ]
    }
   ],
   "source": [
    "customer_orders = {\"Manzanas\": 5, \"Bananas\": 3}\n",
    "products = [\"Manzanas\", \"Bananas\", \"Naranjas\"]\n",
    "total_ordered, percentage = calculate_order_statistics(customer_orders, products)\n",
    "print(\"Total products ordered:\", total_ordered)\n",
    "print(\"Percentage of products ordered:\", percentage)"
   ]
  },
  {
   "cell_type": "markdown",
   "id": "b96d40b4",
   "metadata": {},
   "source": [
    "5. Define a function named `print_order_statistics` that takes `order_statistics` as a parameter. Inside the function, implement the code for printing the order statistics."
   ]
  },
  {
   "cell_type": "code",
   "execution_count": 145,
   "id": "a0b7fa5b",
   "metadata": {},
   "outputs": [],
   "source": [
    "def print_order_statistics(order_statistics):\n",
    "    order_status = total_ordered, percentage\n",
    "    print(total_ordered)\n",
    "    print(percentage)"
   ]
  },
  {
   "cell_type": "code",
   "execution_count": 147,
   "id": "6af1116e",
   "metadata": {},
   "outputs": [
    {
     "name": "stdout",
     "output_type": "stream",
     "text": [
      "8\n",
      "266.66666666666663\n"
     ]
    }
   ],
   "source": [
    "customer_orders = {\"onion\": 5, \"cucumber\": 3, \"potatoes\": 2}\n",
    "products = [\"onion\", \"cucumber\", \"potatoes\", \"beans\", \"eggplant\"]\n",
    "\n",
    "order_stats = calculate_order_statistics(customer_orders, products)\n",
    "\n",
    "print_order_statistics(order_stats)"
   ]
  },
  {
   "cell_type": "markdown",
   "id": "84899651",
   "metadata": {},
   "source": [
    "6. Define a function named `print_updated_inventory` that takes `inventory` as a parameter. Inside the function, implement the code for printing the updated inventory."
   ]
  },
  {
   "cell_type": "code",
   "execution_count": 148,
   "id": "2288b6ec",
   "metadata": {},
   "outputs": [],
   "source": [
    "def print_updated_inventory(inventory):\n",
    "    print(\"Updated Inventory:\")\n",
    "    for product, quantity in inventory.items():\n",
    "        print(f\"{product}: {quantity}\")"
   ]
  },
  {
   "cell_type": "code",
   "execution_count": 150,
   "id": "6431c065",
   "metadata": {},
   "outputs": [
    {
     "name": "stdout",
     "output_type": "stream",
     "text": [
      "t-shirt not found in inventory.\n",
      "mug not found in inventory.\n",
      "hat not found in inventory.\n",
      "book not found in inventory.\n",
      "keychain not found in inventory.\n",
      "Updated Inventory:\n",
      "onion: 5\n",
      "cucumber: 3\n",
      "potatoes: 2\n"
     ]
    }
   ],
   "source": [
    "updated_inventory = update_inventory(inventory, customer_orders)\n",
    "print_updated_inventory(updated_inventory)"
   ]
  },
  {
   "cell_type": "markdown",
   "id": "a802cc79",
   "metadata": {},
   "source": [
    "7. Call the functions in the appropriate sequence to execute the program and manage customer orders."
   ]
  },
  {
   "cell_type": "code",
   "execution_count": 157,
   "id": "76cbf267",
   "metadata": {},
   "outputs": [
    {
     "name": "stdout",
     "output_type": "stream",
     "text": [
      "{'onion': 1, 'cucumber': 2, 'potatoes': 3, 'beans': 4, 'eggplant': 5}\n"
     ]
    }
   ],
   "source": [
    "inventory=initialize_inventory(products)\n",
    "print(inventory)"
   ]
  },
  {
   "cell_type": "code",
   "execution_count": 158,
   "id": "d6fba566",
   "metadata": {},
   "outputs": [
    {
     "name": "stdout",
     "output_type": "stream",
     "text": [
      "Your set of list is: {'onion': 5, 'cucumber': 3, 'potatoes': 2}\n",
      "{'onion': 5, 'cucumber': 3, 'potatoes': 2}\n"
     ]
    }
   ],
   "source": [
    "get_customer= get_customer_orders()\n",
    "print(get_customer)"
   ]
  },
  {
   "cell_type": "code",
   "execution_count": 159,
   "id": "237ee65a",
   "metadata": {},
   "outputs": [
    {
     "name": "stdout",
     "output_type": "stream",
     "text": [
      "Not enough onion in inventory. Only 1 left.\n",
      "Not enough cucumber in inventory. Only 2 left.\n",
      "{'onion': 0, 'cucumber': 0, 'potatoes': 1, 'beans': 4, 'eggplant': 5}\n"
     ]
    }
   ],
   "source": [
    "updated_inventory = update_inventory(customer_orders, inventory)\n",
    "print(updated_inventory)\n"
   ]
  },
  {
   "cell_type": "code",
   "execution_count": 160,
   "id": "5651c084",
   "metadata": {},
   "outputs": [
    {
     "name": "stdout",
     "output_type": "stream",
     "text": [
      "Total products ordered: 10\n",
      "Percentage of products ordered: 200.0\n"
     ]
    }
   ],
   "source": [
    "total_ordered, percentage = calculate_order_statistics(customer_orders, products)\n",
    "print(\"Total products ordered:\", total_ordered)\n",
    "print(\"Percentage of products ordered:\", percentage)"
   ]
  },
  {
   "cell_type": "code",
   "execution_count": 161,
   "id": "004e7000",
   "metadata": {},
   "outputs": [
    {
     "name": "stdout",
     "output_type": "stream",
     "text": [
      "10\n",
      "200.0\n"
     ]
    }
   ],
   "source": [
    "\n",
    "order_stats = calculate_order_statistics(customer_orders, products)\n",
    "\n",
    "print_order_statistics(order_stats)"
   ]
  },
  {
   "cell_type": "code",
   "execution_count": 162,
   "id": "71ffa722",
   "metadata": {},
   "outputs": [
    {
     "name": "stdout",
     "output_type": "stream",
     "text": [
      "beans not found in inventory.\n",
      "eggplant not found in inventory.\n",
      "Updated Inventory:\n",
      "onion: 5\n",
      "cucumber: 3\n",
      "potatoes: 1\n"
     ]
    }
   ],
   "source": [
    "updated_inventory = update_inventory(inventory, customer_orders)\n",
    "print_updated_inventory(updated_inventory)"
   ]
  }
 ],
 "metadata": {
  "kernelspec": {
   "display_name": "Python 3 (ipykernel)",
   "language": "python",
   "name": "python3"
  },
  "language_info": {
   "codemirror_mode": {
    "name": "ipython",
    "version": 3
   },
   "file_extension": ".py",
   "mimetype": "text/x-python",
   "name": "python",
   "nbconvert_exporter": "python",
   "pygments_lexer": "ipython3",
   "version": "3.12.4"
  }
 },
 "nbformat": 4,
 "nbformat_minor": 5
}
